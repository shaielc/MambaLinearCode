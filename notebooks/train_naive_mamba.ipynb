{
 "cells": [
  {
   "cell_type": "code",
   "execution_count": 1,
   "metadata": {},
   "outputs": [],
   "source": [
    "%load_ext autoreload\n",
    "%autoreload 2\n",
    "import sys\n",
    "import os\n",
    "sys.path.append(\"/workspaces/MambaLinearCode\")\n",
    "os.chdir(\"/workspaces/MambaLinearCode\")\n"
   ]
  },
  {
   "cell_type": "code",
   "execution_count": 2,
   "metadata": {},
   "outputs": [
    {
     "name": "stdout",
     "output_type": "stream",
     "text": [
      "LDPC_N49_K24.alist\n"
     ]
    }
   ],
   "source": [
    "from configuration import Code, Config\n",
    "from dataset import get_generator_and_parity\n",
    "import torch\n",
    "import os\n",
    "import logging\n",
    "\n",
    "def code_from_hint(hint,):\n",
    "    code_files = os.listdir(CODES_PATH)\n",
    "    code_files = [f for f in code_files if hint in f][0]\n",
    "    print(code_files)\n",
    "    code_n = int(code_files.split('_')[1][1:])\n",
    "    code_k = int(code_files.split('_')[-1][1:].split('.')[0])\n",
    "    code_type = code_files.split('_')[0]\n",
    "    code = Code(code_n, code_k, code_type)\n",
    "    return code\n",
    "\n",
    "OUTPUT_PATH = \".output/\"\n",
    "CODES_PATH = \"codes/\"\n",
    "example_code = code_from_hint(\"LDPC_N49_K24\")\n",
    "G,H = get_generator_and_parity(example_code, standard_form=True)\n",
    "example_code.generator_matrix = torch.from_numpy(G).transpose(0,1).long()\n",
    "example_code.pc_matrix = torch.from_numpy(H).long()\n",
    "\n",
    "os.makedirs(OUTPUT_PATH, exist_ok=True)\n",
    "config = Config(\n",
    "    code=example_code,\n",
    "    d_model=32,\n",
    "    d_state=64,\n",
    "    path=OUTPUT_PATH,\n",
    "    N_dec=8,\n",
    "    warmup_lr=1.0e-4,\n",
    "    lr=1.0e-3,\n",
    "    epochs=1000\n",
    ")\n",
    "\n",
    "handlers = [\n",
    "        logging.FileHandler(os.path.join(OUTPUT_PATH, 'logging.txt')),\n",
    "        logging.StreamHandler()\n",
    "    ]\n",
    "logging.basicConfig(level=logging.INFO, format='%(message)s',\n",
    "                    handlers=handlers)"
   ]
  },
  {
   "cell_type": "code",
   "execution_count": 3,
   "metadata": {},
   "outputs": [
    {
     "name": "stderr",
     "output_type": "stream",
     "text": [
      "/opt/conda/lib/python3.11/site-packages/tqdm/auto.py:21: TqdmWarning: IProgress not found. Please update jupyter and ipywidgets. See https://ipywidgets.readthedocs.io/en/stable/user_install.html\n",
      "  from .autonotebook import tqdm as notebook_tqdm\n"
     ]
    }
   ],
   "source": [
    "from mamba_ssm import Mamba\n",
    "from dataset import EbN0_to_std, ECC_Dataset, train, test, sign_to_bin\n",
    "from torch.utils.data import DataLoader\n",
    "from torch.optim import Adam\n",
    "from torch.optim.lr_scheduler import CosineAnnealingLR\n",
    "import torch.nn.functional as F\n",
    "from torch.nn import ModuleList, LayerNorm\n",
    "import copy\n",
    "\n",
    "device = \"cuda\"\n",
    "\n",
    "def clones(module, N):\n",
    "    return ModuleList([copy.deepcopy(module) for _ in range(N)])\n",
    "\n",
    "class EncoderLayer(torch.nn.Module):\n",
    "    def __init__(self, config: Config, length) -> None:\n",
    "        super().__init__()\n",
    "        self.mamba = Mamba(\n",
    "            d_model=config.d_model,\n",
    "            d_state=config.d_state\n",
    "        )\n",
    "        self.norm = LayerNorm((length, config.d_model))\n",
    "    \n",
    "    def forward(self, x):\n",
    "        o = self.mamba.forward(x)\n",
    "        return self.norm(F.tanh(o))\n",
    "\n",
    "class ECCM(torch.nn.Module):\n",
    "    def __init__(self, config: Config) -> None:\n",
    "        super().__init__()\n",
    "        self.n = config.code.n\n",
    "        self.syndrom_length = config.code.pc_matrix.size(0)\n",
    "        self.src_embed = torch.nn.Parameter(torch.ones(\n",
    "            (self.n + self.syndrom_length, config.d_model)))\n",
    "        self.mamba: ModuleList = clones(EncoderLayer(config, (self.n + self.syndrom_length)), config.N_dec)\n",
    "        self.resize_output_dim = torch.nn.Linear(config.d_model, 1)\n",
    "        self.resize_output_length = torch.nn.Linear(self.n + self.syndrom_length, self.n)\n",
    "        self.norm_output = LayerNorm((self.n,))\n",
    "        \n",
    "        # TODO: exclude Mamba as it implements it's own init\n",
    "        for p in self.parameters():\n",
    "            if p.dim() > 1:\n",
    "                torch.nn.init.xavier_uniform_(p)\n",
    "    \n",
    "    def forward(self, magnitude, syndrome):\n",
    "        emb = torch.cat([magnitude, syndrome], -1).unsqueeze(-1)\n",
    "        out: torch.Tensor = self.src_embed.unsqueeze(0) * emb\n",
    "        for sublayer in self.mamba:\n",
    "            out: torch.Tensor = sublayer.forward(out)\n",
    "        \n",
    "        out: torch.Tensor = self.resize_output_length(out.swapaxes(-2,-1))\n",
    "        out: torch.Tensor = self.resize_output_dim(out.swapaxes(-2,-1))\n",
    "        out: torch.Tensor = out.squeeze(-1)\n",
    "        return self.norm_output(F.tanh(out))\n",
    "\n",
    "    def loss(self, z_pred, z2, y):\n",
    "        loss = F.binary_cross_entropy_with_logits(\n",
    "            z_pred, sign_to_bin(torch.sign(z2)))\n",
    "        x_pred = sign_to_bin(torch.sign(-z_pred * torch.sign(y)))\n",
    "        return loss, x_pred\n"
   ]
  },
  {
   "cell_type": "code",
   "execution_count": 4,
   "metadata": {},
   "outputs": [
    {
     "name": "stderr",
     "output_type": "stream",
     "text": [
      "/tmp/ipykernel_909/4237193757.py:9: FutureWarning: You are using `torch.load` with `weights_only=False` (the current default value), which uses the default pickle module implicitly. It is possible to construct malicious pickle data which will execute arbitrary code during unpickling (See https://github.com/pytorch/pytorch/blob/main/SECURITY.md#untrusted-models for more details). In a future release, the default value for `weights_only` will be flipped to `True`. This limits the functions that could be executed during unpickling. Arbitrary objects will no longer be allowed to be loaded via this mode unless they are explicitly allowlisted by the user via `torch.serialization.add_safe_globals`. We recommend you start setting `weights_only=True` for any use case where you don't have full control of the loaded file. Please open an issue on GitHub for any issues related to this experimental feature.\n",
      "  model.load_state_dict(torch.load(os.path.join(config.path, 'best_model')))\n",
      "Training: 100%|█████████▉| 999/1000 [02:24<00:00,  6.38it/s]Training epoch 1, Batch 1000/1000: LR=1.00e-03, Loss=5.93e-02 BER=2.27e-02 FER=2.97e-01\n",
      "Training: 100%|██████████| 1000/1000 [02:24<00:00,  6.93it/s]\n",
      "Epoch 1 Train Time 144.37339901924133s\n",
      "\n",
      "Training: 100%|█████████▉| 999/1000 [02:20<00:00,  7.57it/s]Training epoch 2, Batch 1000/1000: LR=1.00e-03, Loss=5.95e-02 BER=2.29e-02 FER=2.96e-01\n",
      "Training: 100%|██████████| 1000/1000 [02:20<00:00,  7.12it/s]\n",
      "Epoch 2 Train Time 140.39479184150696s\n",
      "\n",
      "Training:  99%|█████████▉| 993/1000 [02:13<00:00,  7.06it/s]"
     ]
    }
   ],
   "source": [
    "\n",
    "\n",
    "model = ECCM(config=config).to(\"cuda\")\n",
    "\n",
    "def train_model(args: Config, model: torch.nn.Module):\n",
    "    code = args.code\n",
    "    initial_lr = args.warmup_lr\n",
    "    device = \"cuda\" if torch.cuda.is_available() else \"cpu\"\n",
    "    optimizer = Adam(model.parameters(), lr=args.warmup_lr)\n",
    "\n",
    "    model.load_state_dict(torch.load(os.path.join(config.path, 'best_model')))\n",
    "    # optimizer.load_state_dict(torch.load(os.path.join(config.path, 'optimizer_checkpoint')))\n",
    "    \n",
    "\n",
    "    #################################\n",
    "    EbNo_range_test = range(4, 7)\n",
    "    EbNo_range_train = range(2, 8)\n",
    "    std_train = [EbN0_to_std(ii, code.k / code.n) for ii in EbNo_range_train]\n",
    "    std_test = [EbN0_to_std(ii, code.k / code.n) for ii in EbNo_range_test]\n",
    "    train_dataloader = DataLoader(ECC_Dataset(code, std_train, len=args.batch_size * 1000, zero_cw=True), batch_size=int(args.batch_size),\n",
    "                                  shuffle=True, num_workers=args.workers)\n",
    "    test_dataloader_list = [DataLoader(ECC_Dataset(code, [std_test[ii]], len=int(args.test_batch_size), zero_cw=False),\n",
    "                                       batch_size=int(args.test_batch_size), shuffle=False, num_workers=args.workers) for ii in range(len(std_test))]\n",
    "    #################################\n",
    "\n",
    "    best_loss = float('inf')\n",
    "    # for epoch in range(1,3):\n",
    "    #     loss, ber, fer = train(model, device, train_dataloader, optimizer,\n",
    "    #                            epoch, LR=initial_lr, config=args)\n",
    "    #     if loss < best_loss:\n",
    "    #         best_loss = loss\n",
    "    #         torch.save(model.state_dict(), os.path.join(args.path, 'best_model'))\n",
    "    \n",
    "    for param_group in optimizer.param_groups:\n",
    "        param_group['lr'] = args.lr\n",
    "    \n",
    "    scheduler = CosineAnnealingLR(optimizer, T_max=1000, eta_min=args.eta_min)\n",
    "    # scheduler.load_state_dict(torch.load(os.path.join(config.path, 'scheduler_checkpoint')))\n",
    "\n",
    "    for epoch in range(1, args.epochs + 1):\n",
    "        loss, ber, fer = train(model, device, train_dataloader, optimizer,\n",
    "                               epoch, LR=scheduler.get_last_lr()[0], config=args)\n",
    "        scheduler.step()\n",
    "        if loss < best_loss:\n",
    "            best_loss = loss\n",
    "            torch.save(model.state_dict(), os.path.join(args.path, 'best_model'))\n",
    "            torch.save(optimizer.state_dict(), os.path.join(args.path, 'optimizer_checkpoint'))\n",
    "            torch.save(scheduler.state_dict(), os.path.join(args.path, 'scheduler_checkpoint'))\n",
    "\n",
    "        # if epoch % 200 == 0:\n",
    "        #     test(model, device, test_dataloader_list, EbNo_range_test)\n",
    "    return model\n",
    "\n",
    "train_model(config, model)"
   ]
  },
  {
   "cell_type": "code",
   "execution_count": 70,
   "metadata": {},
   "outputs": [
    {
     "name": "stderr",
     "output_type": "stream",
     "text": [
      "/tmp/ipykernel_85608/2858039931.py:2: FutureWarning: You are using `torch.load` with `weights_only=False` (the current default value), which uses the default pickle module implicitly. It is possible to construct malicious pickle data which will execute arbitrary code during unpickling (See https://github.com/pytorch/pytorch/blob/main/SECURITY.md#untrusted-models for more details). In a future release, the default value for `weights_only` will be flipped to `True`. This limits the functions that could be executed during unpickling. Arbitrary objects will no longer be allowed to be loaded via this mode unless they are explicitly allowlisted by the user via `torch.serialization.add_safe_globals`. We recommend you start setting `weights_only=True` for any use case where you don't have full control of the loaded file. Please open an issue on GitHub for any issues related to this experimental feature.\n",
      "  model.load_state_dict(torch.load(os.path.join(config.path, 'best_model')))\n"
     ]
    }
   ],
   "source": [
    "\n",
    "model = ECCM(config=config)\n",
    "model.load_state_dict(torch.load(os.path.join(config.path, 'best_model')))\n",
    "model = model.to(\"cuda\")"
   ]
  },
  {
   "cell_type": "code",
   "execution_count": 91,
   "metadata": {},
   "outputs": [
    {
     "name": "stdout",
     "output_type": "stream",
     "text": [
      "torch.Size([1, 49]) torch.Size([1, 49])\n"
     ]
    },
    {
     "data": {
      "text/plain": [
       "(tensor([1.0000, 1.0000, 1.0000, 1.0000, 1.0000, 1.0000, 1.0000, 1.0000, 1.0000,\n",
       "         1.0000, 1.0000, 1.0000, 1.0000, 1.0000, 1.0000, 1.0000, 1.0000, 1.0000,\n",
       "         1.0000, 1.0000, 1.0000, 1.0000, 1.0000, 1.0000, 1.0000, 1.0000, 1.0000,\n",
       "         1.0000, 1.0000, 1.0000, 1.0000, 1.0000, 1.0000, 1.0000, 1.0000, 1.0000,\n",
       "         1.0000, 1.0000, 1.0000, 1.0000, 1.0000, 1.0000, 1.0000, 1.0000, 1.0000,\n",
       "         1.0000, 1.0000, 1.0000, 1.0000]),\n",
       " tensor([1., 1., 1., 1., 1., 1., 1., 1., 1., 1., 1., 1., 1., 1., 1., 1., 1., 1.,\n",
       "         1., 1., 1., 1., 1., 1., 1., 1., 1., 1.]),\n",
       " tensor([[3.1375, 2.6021, 3.4233, 3.5247, 3.4933, 2.9124, 2.9117, 2.8795, 3.5091,\n",
       "          3.3822, 3.3560, 2.8673, 3.5147, 3.5130, 2.9325, 3.4072, 3.5248, 3.4980,\n",
       "          2.8055, 3.5118, 2.9043, 2.8996, 3.3777, 3.3885, 3.4759, 3.5140, 3.4555,\n",
       "          3.3769, 2.9213, 2.8994, 3.2935, 3.4549, 3.4267, 3.3171, 3.4787, 3.4139,\n",
       "          3.4767, 2.8779, 3.4025, 2.9283, 2.8966, 3.4382, 3.0773, 3.5051, 3.4739,\n",
       "          2.8924, 2.8793, 3.4109, 2.8878]], device='cuda:0',\n",
       "        grad_fn=<NativeLayerNormBackward0>),\n",
       " tensor([[1.0000, 1.0000, 1.0000, 1.0000, 1.0000, 1.0000, 1.0000, 1.0000, 1.0000,\n",
       "          1.0000, 1.0000, 1.0000, 1.0000, 1.0000, 1.0000, 1.0000, 1.0000, 1.0000,\n",
       "          1.0000, 1.0000, 1.0000, 1.0000, 1.0000, 1.0000, 1.0000, 1.0000, 1.0000,\n",
       "          1.0000, 1.0000, 1.0000, 1.0000, 1.0000, 1.0000, 1.0000, 1.0000, 1.0000,\n",
       "          1.0000, 1.0000, 1.0000, 1.0000, 1.0000, 1.0000, 1.0000, 1.0000, 1.0000,\n",
       "          1.0000, 1.0000, 1.0000, 1.0000]]),\n",
       " (tensor(0.0401, device='cuda:0',\n",
       "         grad_fn=<BinaryCrossEntropyWithLogitsBackward0>),\n",
       "  tensor([[1., 1., 0., 0., 0., 0., 0., 1., 0., 0., 1., 1., 1., 1., 1., 0., 0., 0.,\n",
       "           0., 0., 1., 1., 0., 0., 1., 1., 0., 1., 0., 0., 0., 0., 0., 0., 1., 1.,\n",
       "           1., 1., 0., 0., 0., 0., 1., 0., 1., 0., 0., 1., 0.]], device='cuda:0',\n",
       "         grad_fn=<MulBackward0>)))"
      ]
     },
     "execution_count": 91,
     "metadata": {},
     "output_type": "execute_result"
    }
   ],
   "source": [
    "from dataset import bin_to_sign\n",
    "\n",
    "code = config.code\n",
    "EbNo_range_train = [100]\n",
    "std_train = [EbN0_to_std(ii, code.k / code.n) for ii in EbNo_range_train]\n",
    "m,x,z,y,mag,syn = ECC_Dataset(code, std_train, len=config.batch_size * 1000, zero_cw=False)[0]\n",
    "z_mul = (y * bin_to_sign(x))\n",
    "if len(z_mul.shape) < 2:\n",
    "    z_mul = z_mul.unsqueeze(0)\n",
    "z_pred = model(mag.to('cuda'), syn.to('cuda'))\n",
    "print(z_pred.shape, z_mul.shape)\n",
    "mag, syn, z_pred, z_mul, model.loss(-z_pred, z_mul.to('cuda'), y.to('cuda'))"
   ]
  },
  {
   "cell_type": "code",
   "execution_count": null,
   "metadata": {},
   "outputs": [],
   "source": [
    "# Ideas:\n",
    "# Bi-directional\n",
    "# Load and output"
   ]
  },
  {
   "cell_type": "code",
   "execution_count": null,
   "metadata": {},
   "outputs": [],
   "source": []
  }
 ],
 "metadata": {
  "kernelspec": {
   "display_name": "base",
   "language": "python",
   "name": "python3"
  },
  "language_info": {
   "codemirror_mode": {
    "name": "ipython",
    "version": 3
   },
   "file_extension": ".py",
   "mimetype": "text/x-python",
   "name": "python",
   "nbconvert_exporter": "python",
   "pygments_lexer": "ipython3",
   "version": "3.11.9"
  }
 },
 "nbformat": 4,
 "nbformat_minor": 2
}
